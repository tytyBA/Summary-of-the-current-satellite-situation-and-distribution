{
  "nbformat": 4,
  "nbformat_minor": 0,
  "metadata": {
    "colab": {
      "provenance": [],
      "collapsed_sections": []
    },
    "kernelspec": {
      "name": "python3",
      "display_name": "Python 3"
    },
    "language_info": {
      "name": "python"
    }
  },
  "cells": [
    {
      "cell_type": "markdown",
      "source": [
        "#Project title: Summary of the current satellite situation and distribution\n",
        "\n"
      ],
      "metadata": {
        "id": "MivF0Mykjnh7"
      }
    },
    {
      "cell_type": "markdown",
      "source": [
        "Project definition: Satellites are now reaching a stage of commercialize usage, with 5540 satellite launches and 36 satellite attributes being recorded in the dataset, the project will be focused on discovering the similarities between satellites, finding patterns and determining the satellite trends. Ultimately provide a summary guide to map out the current satellites situation and supply insights about the satellite distribution."
      ],
      "metadata": {
        "id": "DFFlQmoilBrj"
      }
    },
    {
      "cell_type": "markdown",
      "source": [
        "\n",
        "Data source: https://www.ucsusa.org/resources/satellite-database (UCS Satellite Database)\n",
        "\n",
        "Motivation: As SpaceX reaches success in satellite launch, it shows how satellites have been pushed towards a stage of commercialization. With more investment opportunities for satellites, it is paramount that companies know about the current satellite distribution.Therefore, summary of a satellite distribution can be a good guide to follow.\n"
      ],
      "metadata": {
        "id": "wQCc13crlF-b"
      }
    },
    {
      "cell_type": "markdown",
      "source": [
        "##Phase 1"
      ],
      "metadata": {
        "id": "o6iqMMdclJNi"
      }
    },
    {
      "cell_type": "markdown",
      "source": [
        "### Exploratory "
      ],
      "metadata": {
        "id": "dyn3Ej-alS38"
      }
    },
    {
      "cell_type": "code",
      "source": [
        "import pandas as pd\n",
        "import numpy as np"
      ],
      "metadata": {
        "id": "WgsiLYviOOJM"
      },
      "execution_count": null,
      "outputs": []
    },
    {
      "cell_type": "code",
      "execution_count": null,
      "metadata": {
        "colab": {
          "base_uri": "https://localhost:8080/"
        },
        "id": "RWyypLxODMN7",
        "outputId": "6cf0eb09-91d4-456a-f6f9-2bf60c34c08b"
      },
      "outputs": [
        {
          "output_type": "stream",
          "name": "stdout",
          "text": [
            "Drive already mounted at /content/drive; to attempt to forcibly remount, call drive.mount(\"/content/drive\", force_remount=True).\n"
          ]
        }
      ],
      "source": [
        "#mount the drive\n",
        "from google.colab import drive\n",
        "drive.mount('/content/drive')\n",
        "data_folder = '/content/Shareddrives/MyDrive/ba780-a4-fall2/'"
      ]
    },
    {
      "cell_type": "code",
      "source": [
        "#import the csv file\n",
        "import pandas as pd\n",
        "\n",
        "satellite = pd.read_csv('/content/drive/Shareddrives/ba780-a4-fall22/Dataset/UCS-Satellite-Database-5-1-2022.csv')\n",
        "print(satellite.info())"
      ],
      "metadata": {
        "id": "ZfZ0H3GwDkj_",
        "colab": {
          "base_uri": "https://localhost:8080/"
        },
        "outputId": "d3dd18de-c0bb-4be6-c8bf-72b749cf007a"
      },
      "execution_count": null,
      "outputs": [
        {
          "output_type": "stream",
          "name": "stdout",
          "text": [
            "<class 'pandas.core.frame.DataFrame'>\n",
            "RangeIndex: 5467 entries, 0 to 5466\n",
            "Data columns (total 68 columns):\n",
            " #   Column                              Non-Null Count  Dtype  \n",
            "---  ------                              --------------  -----  \n",
            " 0   Name of Satellite, Alternate Names  5465 non-null   object \n",
            " 1   Current Official Name of Satellite  5465 non-null   object \n",
            " 2   Country/Org of UN Registry          4968 non-null   object \n",
            " 3   Country of Operator/Owner           5465 non-null   object \n",
            " 4   Operator/Owner                      5465 non-null   object \n",
            " 5   Users                               5465 non-null   object \n",
            " 6   Purpose                             5465 non-null   object \n",
            " 7   Detailed Purpose                    1140 non-null   object \n",
            " 8   Class of Orbit                      5465 non-null   object \n",
            " 9   Type of Orbit                       4843 non-null   object \n",
            " 10  Longitude of GEO (degrees)          5464 non-null   float64\n",
            " 11  Perigee (km)                        5464 non-null   object \n",
            " 12  Apogee (km)                         5465 non-null   object \n",
            " 13  Eccentricity                        5465 non-null   float64\n",
            " 14  Inclination (degrees)               5465 non-null   float64\n",
            " 15  Period (minutes)                    5449 non-null   float64\n",
            " 16  Launch Mass (kg.)                   5225 non-null   object \n",
            " 17   Dry Mass (kg.)                     444 non-null    object \n",
            " 18  Power (watts)                       580 non-null    object \n",
            " 19  Date of Launch                      5465 non-null   object \n",
            " 20  Expected Lifetime (yrs.)            3599 non-null   float64\n",
            " 21  Contractor                          5463 non-null   object \n",
            " 22  Country of Contractor               5463 non-null   object \n",
            " 23  Launch Site                         5464 non-null   object \n",
            " 24  Launch Vehicle                      5465 non-null   object \n",
            " 25  COSPAR Number                       5465 non-null   object \n",
            " 26  NORAD Number                        5465 non-null   float64\n",
            " 27  Comments                            1810 non-null   object \n",
            " 28  Unnamed: 28                         4 non-null      object \n",
            " 29  Source Used for Orbital Data        5272 non-null   object \n",
            " 30  Source                              3269 non-null   object \n",
            " 31  Source.1                            243 non-null    object \n",
            " 32  Source.2                            1410 non-null   object \n",
            " 33  Source.3                            657 non-null    object \n",
            " 34  Source.4                            252 non-null    object \n",
            " 35  Source.5                            70 non-null     object \n",
            " 36  Source.6                            20 non-null     object \n",
            " 37  Unnamed: 37                         0 non-null      float64\n",
            " 38  Unnamed: 38                         0 non-null      float64\n",
            " 39  Unnamed: 39                         0 non-null      float64\n",
            " 40  Unnamed: 40                         0 non-null      float64\n",
            " 41  Unnamed: 41                         0 non-null      float64\n",
            " 42  Unnamed: 42                         0 non-null      float64\n",
            " 43  Unnamed: 43                         0 non-null      float64\n",
            " 44  Unnamed: 44                         0 non-null      float64\n",
            " 45  Unnamed: 45                         0 non-null      float64\n",
            " 46  Unnamed: 46                         0 non-null      float64\n",
            " 47  Unnamed: 47                         0 non-null      float64\n",
            " 48  Unnamed: 48                         0 non-null      float64\n",
            " 49  Unnamed: 49                         0 non-null      float64\n",
            " 50  Unnamed: 50                         0 non-null      float64\n",
            " 51  Unnamed: 51                         0 non-null      float64\n",
            " 52  Unnamed: 52                         0 non-null      float64\n",
            " 53  Unnamed: 53                         0 non-null      float64\n",
            " 54  Unnamed: 54                         0 non-null      float64\n",
            " 55  Unnamed: 55                         0 non-null      float64\n",
            " 56  Unnamed: 56                         0 non-null      float64\n",
            " 57  Unnamed: 57                         0 non-null      float64\n",
            " 58  Unnamed: 58                         0 non-null      float64\n",
            " 59  Unnamed: 59                         0 non-null      float64\n",
            " 60  Unnamed: 60                         3 non-null      object \n",
            " 61  Unnamed: 61                         3 non-null      object \n",
            " 62  Unnamed: 62                         2 non-null      object \n",
            " 63  Unnamed: 63                         0 non-null      float64\n",
            " 64  Unnamed: 64                         0 non-null      float64\n",
            " 65  Unnamed: 65                         0 non-null      float64\n",
            " 66  Unnamed: 66                         2 non-null      object \n",
            " 67  Unnamed: 67                         0 non-null      float64\n",
            "dtypes: float64(33), object(35)\n",
            "memory usage: 2.8+ MB\n",
            "None\n"
          ]
        }
      ]
    },
    {
      "cell_type": "markdown",
      "source": [
        "1. In order to define the id of the dataframe for each record, we first want to exam if 'Name of Satellite, Alternate Names' variables are unique, so that can be used as ID for each observation. As the result, number of unique Satellites are: 5458, and there are: 5467 total number of satellite launched, meaning that satellites with same name can be launched twice. So in next step, we will generate the unique identifier for each satellite."
      ],
      "metadata": {
        "id": "dyX8W_WTOl15"
      }
    },
    {
      "cell_type": "code",
      "source": [
        "## Count unique Name of Stallite, Alternate Names, and see if each row is unique\n",
        "Num_Satellite = len(satellite['Name of Satellite, Alternate Names'].unique())\n",
        "Total_Record = len(satellite['Name of Satellite, Alternate Names'])\n",
        "\n",
        "Total_Record > Num_Satellite\n",
        "\"Number of unique Satellites are: {}, and there are: {} total number of satellite launched\".format(len(satellite['Name of Satellite, Alternate Names'].unique()),len(satellite['Name of Satellite, Alternate Names']))"
      ],
      "metadata": {
        "id": "hGBbwqlZmCvs",
        "colab": {
          "base_uri": "https://localhost:8080/",
          "height": 36
        },
        "outputId": "bcf4063a-ce73-4766-86a9-b605247c59c5"
      },
      "execution_count": null,
      "outputs": [
        {
          "output_type": "execute_result",
          "data": {
            "text/plain": [
              "'Number of unique Satellites are: 5458, and there are: 5467 total number of satellite launched'"
            ],
            "application/vnd.google.colaboratory.intrinsic+json": {
              "type": "string"
            }
          },
          "metadata": {},
          "execution_count": 43
        }
      ]
    },
    {
      "cell_type": "markdown",
      "source": [
        "2. Using the for loop to generate the unique identifier and e"
      ],
      "metadata": {
        "id": "ei5c-DZOX5ve"
      }
    },
    {
      "cell_type": "code",
      "source": [
        "#Dropping all the unamed and source columns\n",
        "satellite_clean_1 = (satellite.drop(satellite.iloc[:,28:68] , axis = 1)).copy()\n",
        "satellite_clean_1.info()\n",
        "#satellite_clean_1.to_csv('sample_data/satellite_version2.csv')"
      ],
      "metadata": {
        "id": "aIjrsZ3TvPT3",
        "colab": {
          "base_uri": "https://localhost:8080/"
        },
        "outputId": "1925fc92-9329-465d-c6b6-c1d27e0b7c85"
      },
      "execution_count": null,
      "outputs": [
        {
          "output_type": "stream",
          "name": "stdout",
          "text": [
            "<class 'pandas.core.frame.DataFrame'>\n",
            "RangeIndex: 5467 entries, 0 to 5466\n",
            "Data columns (total 28 columns):\n",
            " #   Column                              Non-Null Count  Dtype  \n",
            "---  ------                              --------------  -----  \n",
            " 0   Name of Satellite, Alternate Names  5465 non-null   object \n",
            " 1   Current Official Name of Satellite  5465 non-null   object \n",
            " 2   Country/Org of UN Registry          4968 non-null   object \n",
            " 3   Country of Operator/Owner           5465 non-null   object \n",
            " 4   Operator/Owner                      5465 non-null   object \n",
            " 5   Users                               5465 non-null   object \n",
            " 6   Purpose                             5465 non-null   object \n",
            " 7   Detailed Purpose                    1140 non-null   object \n",
            " 8   Class of Orbit                      5465 non-null   object \n",
            " 9   Type of Orbit                       4843 non-null   object \n",
            " 10  Longitude of GEO (degrees)          5464 non-null   float64\n",
            " 11  Perigee (km)                        5464 non-null   object \n",
            " 12  Apogee (km)                         5465 non-null   object \n",
            " 13  Eccentricity                        5465 non-null   float64\n",
            " 14  Inclination (degrees)               5465 non-null   float64\n",
            " 15  Period (minutes)                    5449 non-null   float64\n",
            " 16  Launch Mass (kg.)                   5225 non-null   object \n",
            " 17   Dry Mass (kg.)                     444 non-null    object \n",
            " 18  Power (watts)                       580 non-null    object \n",
            " 19  Date of Launch                      5465 non-null   object \n",
            " 20  Expected Lifetime (yrs.)            3599 non-null   float64\n",
            " 21  Contractor                          5463 non-null   object \n",
            " 22  Country of Contractor               5463 non-null   object \n",
            " 23  Launch Site                         5464 non-null   object \n",
            " 24  Launch Vehicle                      5465 non-null   object \n",
            " 25  COSPAR Number                       5465 non-null   object \n",
            " 26  NORAD Number                        5465 non-null   float64\n",
            " 27  Comments                            1810 non-null   object \n",
            "dtypes: float64(6), object(22)\n",
            "memory usage: 1.2+ MB\n"
          ]
        }
      ]
    },
    {
      "cell_type": "code",
      "source": [],
      "metadata": {
        "colab": {
          "base_uri": "https://localhost:8080/",
          "height": 433
        },
        "id": "1VPnNIqVTllJ",
        "outputId": "128d6ff8-1cd6-4e6e-c00e-40d5d71d2ab8"
      },
      "execution_count": null,
      "outputs": [
        {
          "output_type": "error",
          "ename": "TypeError",
          "evalue": "ignored",
          "traceback": [
            "\u001b[0;31m---------------------------------------------------------------------------\u001b[0m",
            "\u001b[0;31mTypeError\u001b[0m                                 Traceback (most recent call last)",
            "\u001b[0;32m/usr/local/lib/python3.7/dist-packages/pandas/core/ops/array_ops.py\u001b[0m in \u001b[0;36m_na_arithmetic_op\u001b[0;34m(left, right, op, is_cmp)\u001b[0m\n\u001b[1;32m    165\u001b[0m     \u001b[0;32mtry\u001b[0m\u001b[0;34m:\u001b[0m\u001b[0;34m\u001b[0m\u001b[0;34m\u001b[0m\u001b[0m\n\u001b[0;32m--> 166\u001b[0;31m         \u001b[0mresult\u001b[0m \u001b[0;34m=\u001b[0m \u001b[0mfunc\u001b[0m\u001b[0;34m(\u001b[0m\u001b[0mleft\u001b[0m\u001b[0;34m,\u001b[0m \u001b[0mright\u001b[0m\u001b[0;34m)\u001b[0m\u001b[0;34m\u001b[0m\u001b[0;34m\u001b[0m\u001b[0m\n\u001b[0m\u001b[1;32m    167\u001b[0m     \u001b[0;32mexcept\u001b[0m \u001b[0mTypeError\u001b[0m\u001b[0;34m:\u001b[0m\u001b[0;34m\u001b[0m\u001b[0;34m\u001b[0m\u001b[0m\n",
            "\u001b[0;32m/usr/local/lib/python3.7/dist-packages/pandas/core/computation/expressions.py\u001b[0m in \u001b[0;36mevaluate\u001b[0;34m(op, a, b, use_numexpr)\u001b[0m\n\u001b[1;32m    238\u001b[0m             \u001b[0;31m# error: \"None\" not callable\u001b[0m\u001b[0;34m\u001b[0m\u001b[0;34m\u001b[0m\u001b[0;34m\u001b[0m\u001b[0m\n\u001b[0;32m--> 239\u001b[0;31m             \u001b[0;32mreturn\u001b[0m \u001b[0m_evaluate\u001b[0m\u001b[0;34m(\u001b[0m\u001b[0mop\u001b[0m\u001b[0;34m,\u001b[0m \u001b[0mop_str\u001b[0m\u001b[0;34m,\u001b[0m \u001b[0ma\u001b[0m\u001b[0;34m,\u001b[0m \u001b[0mb\u001b[0m\u001b[0;34m)\u001b[0m  \u001b[0;31m# type: ignore[misc]\u001b[0m\u001b[0;34m\u001b[0m\u001b[0;34m\u001b[0m\u001b[0m\n\u001b[0m\u001b[1;32m    240\u001b[0m     \u001b[0;32mreturn\u001b[0m \u001b[0m_evaluate_standard\u001b[0m\u001b[0;34m(\u001b[0m\u001b[0mop\u001b[0m\u001b[0;34m,\u001b[0m \u001b[0mop_str\u001b[0m\u001b[0;34m,\u001b[0m \u001b[0ma\u001b[0m\u001b[0;34m,\u001b[0m \u001b[0mb\u001b[0m\u001b[0;34m)\u001b[0m\u001b[0;34m\u001b[0m\u001b[0;34m\u001b[0m\u001b[0m\n",
            "\u001b[0;32m/usr/local/lib/python3.7/dist-packages/pandas/core/computation/expressions.py\u001b[0m in \u001b[0;36m_evaluate_numexpr\u001b[0;34m(op, op_str, a, b)\u001b[0m\n\u001b[1;32m    127\u001b[0m     \u001b[0;32mif\u001b[0m \u001b[0mresult\u001b[0m \u001b[0;32mis\u001b[0m \u001b[0;32mNone\u001b[0m\u001b[0;34m:\u001b[0m\u001b[0;34m\u001b[0m\u001b[0;34m\u001b[0m\u001b[0m\n\u001b[0;32m--> 128\u001b[0;31m         \u001b[0mresult\u001b[0m \u001b[0;34m=\u001b[0m \u001b[0m_evaluate_standard\u001b[0m\u001b[0;34m(\u001b[0m\u001b[0mop\u001b[0m\u001b[0;34m,\u001b[0m \u001b[0mop_str\u001b[0m\u001b[0;34m,\u001b[0m \u001b[0ma\u001b[0m\u001b[0;34m,\u001b[0m \u001b[0mb\u001b[0m\u001b[0;34m)\u001b[0m\u001b[0;34m\u001b[0m\u001b[0;34m\u001b[0m\u001b[0m\n\u001b[0m\u001b[1;32m    129\u001b[0m \u001b[0;34m\u001b[0m\u001b[0m\n",
            "\u001b[0;32m/usr/local/lib/python3.7/dist-packages/pandas/core/computation/expressions.py\u001b[0m in \u001b[0;36m_evaluate_standard\u001b[0;34m(op, op_str, a, b)\u001b[0m\n\u001b[1;32m     68\u001b[0m         \u001b[0m_store_test_result\u001b[0m\u001b[0;34m(\u001b[0m\u001b[0;32mFalse\u001b[0m\u001b[0;34m)\u001b[0m\u001b[0;34m\u001b[0m\u001b[0;34m\u001b[0m\u001b[0m\n\u001b[0;32m---> 69\u001b[0;31m     \u001b[0;32mreturn\u001b[0m \u001b[0mop\u001b[0m\u001b[0;34m(\u001b[0m\u001b[0ma\u001b[0m\u001b[0;34m,\u001b[0m \u001b[0mb\u001b[0m\u001b[0;34m)\u001b[0m\u001b[0;34m\u001b[0m\u001b[0;34m\u001b[0m\u001b[0m\n\u001b[0m\u001b[1;32m     70\u001b[0m \u001b[0;34m\u001b[0m\u001b[0m\n",
            "\u001b[0;31mTypeError\u001b[0m: can only concatenate str (not \"StringMethods\") to str",
            "\nDuring handling of the above exception, another exception occurred:\n",
            "\u001b[0;31mTypeError\u001b[0m                                 Traceback (most recent call last)",
            "\u001b[0;32m<ipython-input-28-d01ea0ce82d1>\u001b[0m in \u001b[0;36m<module>\u001b[0;34m\u001b[0m\n\u001b[0;32m----> 1\u001b[0;31m \u001b[0msatellite_clean_1\u001b[0m\u001b[0;34m[\u001b[0m\u001b[0;34m[\u001b[0m\u001b[0;34m'ID'\u001b[0m\u001b[0;34m]\u001b[0m\u001b[0;34m]\u001b[0m \u001b[0;34m=\u001b[0m \u001b[0msatellite_clean_1\u001b[0m\u001b[0;34m[\u001b[0m\u001b[0;34m'Name of Satellite, Alternate Names'\u001b[0m\u001b[0;34m]\u001b[0m\u001b[0;34m.\u001b[0m\u001b[0mastype\u001b[0m\u001b[0;34m(\u001b[0m\u001b[0mstr\u001b[0m\u001b[0;34m)\u001b[0m \u001b[0;34m+\u001b[0m \u001b[0;34m\"-\"\u001b[0m \u001b[0;34m+\u001b[0m \u001b[0msatellite_clean_1\u001b[0m\u001b[0;34m[\u001b[0m\u001b[0;34m'Date of Launch'\u001b[0m\u001b[0;34m]\u001b[0m\u001b[0;34m.\u001b[0m\u001b[0mstr\u001b[0m\u001b[0;34m\u001b[0m\u001b[0;34m\u001b[0m\u001b[0m\n\u001b[0m",
            "\u001b[0;32m/usr/local/lib/python3.7/dist-packages/pandas/core/ops/common.py\u001b[0m in \u001b[0;36mnew_method\u001b[0;34m(self, other)\u001b[0m\n\u001b[1;32m     67\u001b[0m         \u001b[0mother\u001b[0m \u001b[0;34m=\u001b[0m \u001b[0mitem_from_zerodim\u001b[0m\u001b[0;34m(\u001b[0m\u001b[0mother\u001b[0m\u001b[0;34m)\u001b[0m\u001b[0;34m\u001b[0m\u001b[0;34m\u001b[0m\u001b[0m\n\u001b[1;32m     68\u001b[0m \u001b[0;34m\u001b[0m\u001b[0m\n\u001b[0;32m---> 69\u001b[0;31m         \u001b[0;32mreturn\u001b[0m \u001b[0mmethod\u001b[0m\u001b[0;34m(\u001b[0m\u001b[0mself\u001b[0m\u001b[0;34m,\u001b[0m \u001b[0mother\u001b[0m\u001b[0;34m)\u001b[0m\u001b[0;34m\u001b[0m\u001b[0;34m\u001b[0m\u001b[0m\n\u001b[0m\u001b[1;32m     70\u001b[0m \u001b[0;34m\u001b[0m\u001b[0m\n\u001b[1;32m     71\u001b[0m     \u001b[0;32mreturn\u001b[0m \u001b[0mnew_method\u001b[0m\u001b[0;34m\u001b[0m\u001b[0;34m\u001b[0m\u001b[0m\n",
            "\u001b[0;32m/usr/local/lib/python3.7/dist-packages/pandas/core/arraylike.py\u001b[0m in \u001b[0;36m__add__\u001b[0;34m(self, other)\u001b[0m\n\u001b[1;32m     90\u001b[0m     \u001b[0;34m@\u001b[0m\u001b[0munpack_zerodim_and_defer\u001b[0m\u001b[0;34m(\u001b[0m\u001b[0;34m\"__add__\"\u001b[0m\u001b[0;34m)\u001b[0m\u001b[0;34m\u001b[0m\u001b[0;34m\u001b[0m\u001b[0m\n\u001b[1;32m     91\u001b[0m     \u001b[0;32mdef\u001b[0m \u001b[0m__add__\u001b[0m\u001b[0;34m(\u001b[0m\u001b[0mself\u001b[0m\u001b[0;34m,\u001b[0m \u001b[0mother\u001b[0m\u001b[0;34m)\u001b[0m\u001b[0;34m:\u001b[0m\u001b[0;34m\u001b[0m\u001b[0;34m\u001b[0m\u001b[0m\n\u001b[0;32m---> 92\u001b[0;31m         \u001b[0;32mreturn\u001b[0m \u001b[0mself\u001b[0m\u001b[0;34m.\u001b[0m\u001b[0m_arith_method\u001b[0m\u001b[0;34m(\u001b[0m\u001b[0mother\u001b[0m\u001b[0;34m,\u001b[0m \u001b[0moperator\u001b[0m\u001b[0;34m.\u001b[0m\u001b[0madd\u001b[0m\u001b[0;34m)\u001b[0m\u001b[0;34m\u001b[0m\u001b[0;34m\u001b[0m\u001b[0m\n\u001b[0m\u001b[1;32m     93\u001b[0m \u001b[0;34m\u001b[0m\u001b[0m\n\u001b[1;32m     94\u001b[0m     \u001b[0;34m@\u001b[0m\u001b[0munpack_zerodim_and_defer\u001b[0m\u001b[0;34m(\u001b[0m\u001b[0;34m\"__radd__\"\u001b[0m\u001b[0;34m)\u001b[0m\u001b[0;34m\u001b[0m\u001b[0;34m\u001b[0m\u001b[0m\n",
            "\u001b[0;32m/usr/local/lib/python3.7/dist-packages/pandas/core/series.py\u001b[0m in \u001b[0;36m_arith_method\u001b[0;34m(self, other, op)\u001b[0m\n\u001b[1;32m   5524\u001b[0m \u001b[0;34m\u001b[0m\u001b[0m\n\u001b[1;32m   5525\u001b[0m         \u001b[0;32mwith\u001b[0m \u001b[0mnp\u001b[0m\u001b[0;34m.\u001b[0m\u001b[0merrstate\u001b[0m\u001b[0;34m(\u001b[0m\u001b[0mall\u001b[0m\u001b[0;34m=\u001b[0m\u001b[0;34m\"ignore\"\u001b[0m\u001b[0;34m)\u001b[0m\u001b[0;34m:\u001b[0m\u001b[0;34m\u001b[0m\u001b[0;34m\u001b[0m\u001b[0m\n\u001b[0;32m-> 5526\u001b[0;31m             \u001b[0mresult\u001b[0m \u001b[0;34m=\u001b[0m \u001b[0mops\u001b[0m\u001b[0;34m.\u001b[0m\u001b[0marithmetic_op\u001b[0m\u001b[0;34m(\u001b[0m\u001b[0mlvalues\u001b[0m\u001b[0;34m,\u001b[0m \u001b[0mrvalues\u001b[0m\u001b[0;34m,\u001b[0m \u001b[0mop\u001b[0m\u001b[0;34m)\u001b[0m\u001b[0;34m\u001b[0m\u001b[0;34m\u001b[0m\u001b[0m\n\u001b[0m\u001b[1;32m   5527\u001b[0m \u001b[0;34m\u001b[0m\u001b[0m\n\u001b[1;32m   5528\u001b[0m         \u001b[0;32mreturn\u001b[0m \u001b[0mself\u001b[0m\u001b[0;34m.\u001b[0m\u001b[0m_construct_result\u001b[0m\u001b[0;34m(\u001b[0m\u001b[0mresult\u001b[0m\u001b[0;34m,\u001b[0m \u001b[0mname\u001b[0m\u001b[0;34m=\u001b[0m\u001b[0mres_name\u001b[0m\u001b[0;34m)\u001b[0m\u001b[0;34m\u001b[0m\u001b[0;34m\u001b[0m\u001b[0m\n",
            "\u001b[0;32m/usr/local/lib/python3.7/dist-packages/pandas/core/ops/array_ops.py\u001b[0m in \u001b[0;36marithmetic_op\u001b[0;34m(left, right, op)\u001b[0m\n\u001b[1;32m    222\u001b[0m         \u001b[0m_bool_arith_check\u001b[0m\u001b[0;34m(\u001b[0m\u001b[0mop\u001b[0m\u001b[0;34m,\u001b[0m \u001b[0mleft\u001b[0m\u001b[0;34m,\u001b[0m \u001b[0mright\u001b[0m\u001b[0;34m)\u001b[0m\u001b[0;34m\u001b[0m\u001b[0;34m\u001b[0m\u001b[0m\n\u001b[1;32m    223\u001b[0m \u001b[0;34m\u001b[0m\u001b[0m\n\u001b[0;32m--> 224\u001b[0;31m         \u001b[0mres_values\u001b[0m \u001b[0;34m=\u001b[0m \u001b[0m_na_arithmetic_op\u001b[0m\u001b[0;34m(\u001b[0m\u001b[0mleft\u001b[0m\u001b[0;34m,\u001b[0m \u001b[0mright\u001b[0m\u001b[0;34m,\u001b[0m \u001b[0mop\u001b[0m\u001b[0;34m)\u001b[0m\u001b[0;34m\u001b[0m\u001b[0;34m\u001b[0m\u001b[0m\n\u001b[0m\u001b[1;32m    225\u001b[0m \u001b[0;34m\u001b[0m\u001b[0m\n\u001b[1;32m    226\u001b[0m     \u001b[0;32mreturn\u001b[0m \u001b[0mres_values\u001b[0m\u001b[0;34m\u001b[0m\u001b[0;34m\u001b[0m\u001b[0m\n",
            "\u001b[0;32m/usr/local/lib/python3.7/dist-packages/pandas/core/ops/array_ops.py\u001b[0m in \u001b[0;36m_na_arithmetic_op\u001b[0;34m(left, right, op, is_cmp)\u001b[0m\n\u001b[1;32m    171\u001b[0m             \u001b[0;31m# Don't do this for comparisons, as that will handle complex numbers\u001b[0m\u001b[0;34m\u001b[0m\u001b[0;34m\u001b[0m\u001b[0;34m\u001b[0m\u001b[0m\n\u001b[1;32m    172\u001b[0m             \u001b[0;31m#  incorrectly, see GH#32047\u001b[0m\u001b[0;34m\u001b[0m\u001b[0;34m\u001b[0m\u001b[0;34m\u001b[0m\u001b[0m\n\u001b[0;32m--> 173\u001b[0;31m             \u001b[0mresult\u001b[0m \u001b[0;34m=\u001b[0m \u001b[0m_masked_arith_op\u001b[0m\u001b[0;34m(\u001b[0m\u001b[0mleft\u001b[0m\u001b[0;34m,\u001b[0m \u001b[0mright\u001b[0m\u001b[0;34m,\u001b[0m \u001b[0mop\u001b[0m\u001b[0;34m)\u001b[0m\u001b[0;34m\u001b[0m\u001b[0;34m\u001b[0m\u001b[0m\n\u001b[0m\u001b[1;32m    174\u001b[0m         \u001b[0;32melse\u001b[0m\u001b[0;34m:\u001b[0m\u001b[0;34m\u001b[0m\u001b[0;34m\u001b[0m\u001b[0m\n\u001b[1;32m    175\u001b[0m             \u001b[0;32mraise\u001b[0m\u001b[0;34m\u001b[0m\u001b[0;34m\u001b[0m\u001b[0m\n",
            "\u001b[0;32m/usr/local/lib/python3.7/dist-packages/pandas/core/ops/array_ops.py\u001b[0m in \u001b[0;36m_masked_arith_op\u001b[0;34m(x, y, op)\u001b[0m\n\u001b[1;32m    115\u001b[0m         \u001b[0;32mif\u001b[0m \u001b[0;32mnot\u001b[0m \u001b[0mis_scalar\u001b[0m\u001b[0;34m(\u001b[0m\u001b[0my\u001b[0m\u001b[0;34m)\u001b[0m\u001b[0;34m:\u001b[0m\u001b[0;34m\u001b[0m\u001b[0;34m\u001b[0m\u001b[0m\n\u001b[1;32m    116\u001b[0m             raise TypeError(\n\u001b[0;32m--> 117\u001b[0;31m                 \u001b[0;34mf\"Cannot broadcast np.ndarray with operand of type { type(y) }\"\u001b[0m\u001b[0;34m\u001b[0m\u001b[0;34m\u001b[0m\u001b[0m\n\u001b[0m\u001b[1;32m    118\u001b[0m             )\n\u001b[1;32m    119\u001b[0m \u001b[0;34m\u001b[0m\u001b[0m\n",
            "\u001b[0;31mTypeError\u001b[0m: Cannot broadcast np.ndarray with operand of type <class 'pandas.core.strings.accessor.StringMethods'>"
          ]
        }
      ]
    }
  ]
}